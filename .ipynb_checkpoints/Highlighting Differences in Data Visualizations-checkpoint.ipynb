{
 "cells": [
  {
   "cell_type": "markdown",
   "id": "640533d7",
   "metadata": {},
   "source": [
    "# Highlighting Differences in Data Visualizations"
   ]
  },
  {
   "cell_type": "markdown",
   "id": "e2d75a1a",
   "metadata": {},
   "source": [
    "> This notebook serves the purpose of exploring Vega-Lite datasets and experimenting with them. Ultimately, it serves as a backbone to a bachelor thesis with the same topic name."
   ]
  },
  {
   "cell_type": "code",
   "execution_count": 1,
   "id": "b1d9a0ab",
   "metadata": {},
   "outputs": [],
   "source": [
    "import os\n",
    "import json\n",
    "\n",
    "import pandas as pd\n",
    "import altair as alt\n",
    "from vega import VegaLite\n",
    "\n",
    "from analysis import statistics, compare"
   ]
  },
  {
   "cell_type": "markdown",
   "id": "53430646",
   "metadata": {},
   "source": [
    "### Offline Access to Vega Datasets"
   ]
  },
  {
   "cell_type": "code",
   "execution_count": null,
   "id": "16350a0b",
   "metadata": {},
   "outputs": [],
   "source": [
    "# pip install vega_datasets\n",
    "from vega_datasets import data"
   ]
  },
  {
   "cell_type": "code",
   "execution_count": null,
   "id": "8c403dab",
   "metadata": {},
   "outputs": [],
   "source": [
    "datasets_ = data.list_datasets()\n",
    "print(\"List of all datasets:\\n\\n\", datasets_)"
   ]
  },
  {
   "cell_type": "code",
   "execution_count": null,
   "id": "d18bd275",
   "metadata": {},
   "outputs": [],
   "source": [
    "# Only the .json datasets are of interest to us, therefore we filter out datasets of different file types.\n",
    "\n",
    "datasets = []\n",
    "for dataset in datasets_:\n",
    "    try:\n",
    "        path = getattr(data, dataset).filepath\n",
    "        if path.endswith(\".json\"):\n",
    "            datasets.append(dataset)\n",
    "    except (AttributeError, ValueError):\n",
    "        continue\n",
    "        \n",
    "print(\"Available datasets:\", datasets)"
   ]
  },
  {
   "cell_type": "markdown",
   "id": "c3d8c32a",
   "metadata": {},
   "source": [
    "All datasets with file extension .json have been copied to a folder called \"datasets\"."
   ]
  },
  {
   "cell_type": "markdown",
   "id": "17e27326",
   "metadata": {},
   "source": [
    "## Iris Dataset\n",
    "\n",
    "This classic dataset contains lengths and widths of petals and sepals for 150 iris flowers, drawn from three species. It was introduced by R.A. Fisher in 1936."
   ]
  },
  {
   "cell_type": "code",
   "execution_count": 2,
   "id": "95bd65a8",
   "metadata": {},
   "outputs": [],
   "source": [
    "try:\n",
    "    os.chdir(\"datasets\")\n",
    "except:\n",
    "    pass"
   ]
  },
  {
   "cell_type": "code",
   "execution_count": null,
   "id": "7a55aac0",
   "metadata": {},
   "outputs": [],
   "source": [
    "x = \"sepalLength\"\n",
    "y = \"sepalWidth\""
   ]
  },
  {
   "cell_type": "code",
   "execution_count": null,
   "id": "ccc98b89",
   "metadata": {},
   "outputs": [],
   "source": [
    "# original iris dataset\n",
    "\n",
    "iris_original = None\n",
    "with open(\"iris.json\", 'r') as f:\n",
    "    data = json.load(f)\n",
    "    iris_original = pd.DataFrame(data)"
   ]
  },
  {
   "cell_type": "code",
   "execution_count": null,
   "id": "8844da25",
   "metadata": {},
   "outputs": [],
   "source": [
    "iris_og_plot = alt.Chart(iris_original).mark_point().encode(\n",
    "    x=x,\n",
    "    y=y,\n",
    "    color='species',\n",
    "    tooltip=(x,y)\n",
    ").interactive()\n",
    "\n",
    "iris_og_plot"
   ]
  },
  {
   "cell_type": "code",
   "execution_count": null,
   "id": "eb9a7641",
   "metadata": {},
   "outputs": [],
   "source": [
    "try:\n",
    "    os.chdir(\"datasets_altered\")\n",
    "except:\n",
    "    pass"
   ]
  },
  {
   "cell_type": "code",
   "execution_count": null,
   "id": "13609fae",
   "metadata": {},
   "outputs": [],
   "source": [
    "# modified iris dataset available 1 - 20\n",
    "percentage = 20\n",
    "\n",
    "iris_modified = None\n",
    "with open(f\"iris{percentage}.json\", 'r') as f:\n",
    "    data = json.load(f)\n",
    "    iris_modified = pd.DataFrame(data)"
   ]
  },
  {
   "cell_type": "code",
   "execution_count": null,
   "id": "70b78fd9",
   "metadata": {},
   "outputs": [],
   "source": [
    "iris_mod_plot = alt.Chart(iris_modified).mark_point().encode(\n",
    "    x=x,\n",
    "    y=y,\n",
    "    color='species',\n",
    "    tooltip=(x,y)\n",
    ").interactive()\n",
    "\n",
    "iris_mod_plot"
   ]
  },
  {
   "cell_type": "markdown",
   "id": "694736f5",
   "metadata": {},
   "source": [
    "> This Altair Visualization offers an option \"View Source\". <br>\n",
    "> The source code are manually saved as \"iris_source.JSON\" and \"iris20_source.JSON\"."
   ]
  },
  {
   "cell_type": "markdown",
   "id": "35879c25",
   "metadata": {},
   "source": [
    "### analysis.py - statistics(file)"
   ]
  },
  {
   "cell_type": "code",
   "execution_count": null,
   "id": "d98e9a4e",
   "metadata": {},
   "outputs": [],
   "source": [
    "try:\n",
    "    os.chdir(\"../sources\")\n",
    "except:\n",
    "    pass"
   ]
  },
  {
   "cell_type": "code",
   "execution_count": null,
   "id": "53c31d7c",
   "metadata": {},
   "outputs": [],
   "source": [
    "# Original Iris Dataset\n",
    "stats_iris_og = statistics(\"iris_source.json\")\n",
    "print(stats_iris_og)"
   ]
  },
  {
   "cell_type": "code",
   "execution_count": null,
   "id": "a70386f6",
   "metadata": {},
   "outputs": [],
   "source": [
    "# 20% Modified Iris Dataset\n",
    "stats_iris_mod = statistics(\"iris20_source.json\")\n",
    "print(stats_iris_mod)"
   ]
  },
  {
   "cell_type": "markdown",
   "id": "2c9afe36",
   "metadata": {},
   "source": [
    "### analysis.py - compare(file1, file2)"
   ]
  },
  {
   "cell_type": "code",
   "execution_count": null,
   "id": "2a27d9fd",
   "metadata": {},
   "outputs": [],
   "source": [
    "# comparision only available for iris.json and iris20.json\n",
    "\n",
    "print(compare(\"iris_source.json\", \"iris20_source.json\"))"
   ]
  },
  {
   "cell_type": "code",
   "execution_count": null,
   "id": "e16db2bf",
   "metadata": {
    "scrolled": false
   },
   "outputs": [],
   "source": [
    "try:\n",
    "    os.chdir(\"comparisons\")\n",
    "except:\n",
    "    pass"
   ]
  },
  {
   "cell_type": "code",
   "execution_count": null,
   "id": "54dbf14b",
   "metadata": {},
   "outputs": [],
   "source": [
    "iris_comp20 = None\n",
    "with open(f\"iris_COMP_iris20.json\", 'r') as f:\n",
    "    data = json.load(f)\n",
    "    iris_comp20 = pd.DataFrame(data)"
   ]
  },
  {
   "cell_type": "code",
   "execution_count": null,
   "id": "c5b29adf",
   "metadata": {},
   "outputs": [],
   "source": [
    "iris_comp_plot = alt.Chart(iris_comp20).mark_point().encode(\n",
    "    x=x,\n",
    "    y=y,\n",
    "    color='species',\n",
    "    tooltip=(x,y)\n",
    ").interactive()\n",
    "\n",
    "iris_comp_plot"
   ]
  },
  {
   "cell_type": "markdown",
   "id": "6d44987e",
   "metadata": {},
   "source": [
    "## Ploting"
   ]
  },
  {
   "cell_type": "code",
   "execution_count": null,
   "id": "e377e54e",
   "metadata": {},
   "outputs": [],
   "source": [
    "os.chdir(\"../..\")"
   ]
  },
  {
   "cell_type": "code",
   "execution_count": null,
   "id": "d5c32d0d",
   "metadata": {},
   "outputs": [],
   "source": [
    "def plot(a, b, x, y):\n",
    "    \"\"\"\n",
    "    a: original json file\n",
    "    b: modified json file\n",
    "    x: x value for plots\n",
    "    y: y value for plots\n",
    "    output: 3 plots\n",
    "    \"\"\"\n",
    "    \n",
    "    # ORIGINAL\n",
    "    original = None\n",
    "    with open(a, 'r') as og:\n",
    "        data = json.load(og)\n",
    "        original = pd.DataFrame(data)\n",
    "    \n",
    "    og_plot = alt.Chart(original).mark_point().encode(\n",
    "        x=x,\n",
    "        y=y\n",
    "    ).properties(\n",
    "        title = \"A\"\n",
    "    ).interactive()\n",
    "    \n",
    "    # MODIFIED\n",
    "    os.chdir(\"datasets_altered\")\n",
    "    modified = None\n",
    "    with open(b, 'r') as mod:\n",
    "        data = json.load(mod)\n",
    "        modified = pd.DataFrame(data)\n",
    "    \n",
    "    mod_plot = alt.Chart(modified).mark_point().encode(\n",
    "        x=x,\n",
    "        y=y\n",
    "    ).properties(\n",
    "        title = \"B\"\n",
    "    ).interactive()\n",
    "    \n",
    "    # DIFFERENCE\n",
    "    os.chdir(\"../sources/comparisons\")\n",
    "    comparison = None\n",
    "    \n",
    "    comp_file = f\"{a[:-(len('.json'))]}_COMP_{b}\"\n",
    "    with open(comp_file, 'r') as comp:\n",
    "        data = json.load(comp)\n",
    "        comparison = pd.DataFrame(data)\n",
    "        \n",
    "    comp_plot = alt.Chart(comparison).mark_point().encode(\n",
    "        x=x,\n",
    "        y=y\n",
    "    ).properties(\n",
    "        title = \"Difference - in A but not in B\"\n",
    "    ).interactive()\n",
    "    \n",
    "    \n",
    "    comp_file2 = f\"{b[:-(len('.json'))]}_COMP_{a}\"\n",
    "    try:\n",
    "        with open(comp_file2, 'r') as comp:\n",
    "            data = json.load(comp)\n",
    "            comparison = pd.DataFrame(data)\n",
    "\n",
    "        comp_plot2 = alt.Chart(comparison).mark_point().encode(\n",
    "            x=x,\n",
    "            y=y\n",
    "        ).properties(\n",
    "            title = \"Difference - in B but not in A\"\n",
    "        ).interactive()\n",
    "    except:\n",
    "        pass\n",
    "    \n",
    "    # PLOTS\n",
    "    os.chdir(\"../..\")\n",
    "    plots = [og_plot, mod_plot, comp_plot]\n",
    "    try:\n",
    "        plots.append(comp_plot2)\n",
    "    except:\n",
    "        pass\n",
    "    \n",
    "    for plot in plots:\n",
    "        plot.display()"
   ]
  },
  {
   "cell_type": "code",
   "execution_count": null,
   "id": "ab96cfb5",
   "metadata": {},
   "outputs": [],
   "source": [
    "plot(\"iris.json\", \"iris20.json\", x, y)"
   ]
  },
  {
   "cell_type": "code",
   "execution_count": null,
   "id": "aaccd458",
   "metadata": {},
   "outputs": [],
   "source": []
  }
 ],
 "metadata": {
  "kernelspec": {
   "display_name": "Python 3 (ipykernel)",
   "language": "python",
   "name": "python3"
  },
  "language_info": {
   "codemirror_mode": {
    "name": "ipython",
    "version": 3
   },
   "file_extension": ".py",
   "mimetype": "text/x-python",
   "name": "python",
   "nbconvert_exporter": "python",
   "pygments_lexer": "ipython3",
   "version": "3.11.2"
  }
 },
 "nbformat": 4,
 "nbformat_minor": 5
}
